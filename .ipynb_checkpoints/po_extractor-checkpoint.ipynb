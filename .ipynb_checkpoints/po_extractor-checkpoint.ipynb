{
 "cells": [
  {
   "cell_type": "code",
   "execution_count": null,
   "metadata": {},
   "outputs": [],
   "source": [
    "# Fetch all .po files from FE Workflows (for smart start) - Extract copy and create one giant .csv with the translations"
   ]
  },
  {
   "cell_type": "code",
   "execution_count": null,
   "metadata": {},
   "outputs": [],
   "source": [
    "! pip install selenium"
   ]
  },
  {
   "cell_type": "code",
   "execution_count": 394,
   "metadata": {},
   "outputs": [],
   "source": [
    "# import libraries\n",
    "\n",
    "from bs4 import BeautifulSoup\n",
    "\n",
    "from selenium import webdriver\n",
    "from selenium.webdriver.common.keys import Keys\n",
    "from selenium.webdriver.support.ui import Select\n",
    "from selenium.webdriver.firefox.options import Options\n",
    "\n",
    "from random import randint\n",
    "import datetime\n",
    "import os\n",
    "import time\n",
    "import pandas as pd"
   ]
  },
  {
   "cell_type": "code",
   "execution_count": 425,
   "metadata": {},
   "outputs": [
    {
     "data": {
      "text/plain": [
       "{'browser.download.folderList': 1,\n",
       " 'browser.download.manager.showWhenStarting': False,\n",
       " 'browser.download.dir': '/translation_data/',\n",
       " 'browser.helperApps.neverAsk.saveToDisk': 'application/octet-stream,application/vnd.ms-excel'}"
      ]
     },
     "execution_count": 425,
     "metadata": {},
     "output_type": "execute_result"
    }
   ],
   "source": [
    "options.preferences"
   ]
  },
  {
   "cell_type": "code",
   "execution_count": 424,
   "metadata": {},
   "outputs": [],
   "source": [
    "# set download options\n",
    "options = Options();\n",
    "\n",
    "options.set_preference(\"browser.download.folderList\",1);\n",
    "options.set_preference(\"browser.download.manager.showWhenStarting\", False);\n",
    "options.set_preference(\"browser.download.dir\",\"/translation_data/\");\n",
    "options.set_preference(\"browser.helperApps.neverAsk.saveToDisk\", \"application/octet-stream,application/vnd.ms-excel\");"
   ]
  },
  {
   "cell_type": "code",
   "execution_count": 704,
   "metadata": {},
   "outputs": [],
   "source": [
    "# landing page\n",
    "url = \"http://fe.smartstart.prd.feersum.io/admin/workflow/workflow/\""
   ]
  },
  {
   "cell_type": "code",
   "execution_count": 705,
   "metadata": {},
   "outputs": [],
   "source": [
    "# create a new Firefox session\n",
    "driver = webdriver.Firefox(options=options);\n",
    "# driver.implicitly_wait(30)\n",
    "driver.get(url)"
   ]
  },
  {
   "cell_type": "code",
   "execution_count": 706,
   "metadata": {},
   "outputs": [],
   "source": [
    "# Fill in login details\n",
    "username = driver.find_element_by_id(\"id_username\")\n",
    "password = driver.find_element_by_id(\"id_password\")\n",
    "\n",
    "username.send_keys(\"devs\")\n",
    "password.send_keys(\"axvkcl4389xv%^3klj498dfg\")"
   ]
  },
  {
   "cell_type": "code",
   "execution_count": 707,
   "metadata": {},
   "outputs": [],
   "source": [
    "#Login\n",
    "python_button = driver.find_element_by_class_name(\"btn \")\n",
    "python_button.click() "
   ]
  },
  {
   "cell_type": "code",
   "execution_count": 708,
   "metadata": {},
   "outputs": [],
   "source": [
    "# Get page source for first page of interest\n",
    "main_soup=BeautifulSoup(driver.page_source, 'lxml')"
   ]
  },
  {
   "cell_type": "code",
   "execution_count": 709,
   "metadata": {},
   "outputs": [],
   "source": [
    "# determine total number of workflows\n",
    "number_of_workflows = int(main_soup.find('div',class_=\"pagination-info muted\").text.split()[-3])"
   ]
  },
  {
   "cell_type": "code",
   "execution_count": 710,
   "metadata": {},
   "outputs": [],
   "source": [
    "def filter_exportPO_links():\n",
    "    \"\"\"filter export PO links on a page based on non-zero number of extracted phrases\n",
    "    \"\"\"\n",
    "    links = []\n",
    "    for row in main_soup.find_all('table', id='result_list'):\n",
    "        for i,phrase_count in enumerate(row.find_all('td', class_='field-num_translatable_phrases')):\n",
    "            if (int(phrase_count.string)) > 0:\n",
    "                links.append(row.find_all(\n",
    "                    'td',class_='field-translation_actions')[i].find_all(\n",
    "                    'button', string=\"Export PO\")[0].attrs['onclick'].split(\n",
    "        \"location.href=\")[1].replace(\"'\",\"\").replace(\n",
    "        '/translations','translations'))\n",
    "\n",
    "    return links"
   ]
  },
  {
   "cell_type": "code",
   "execution_count": 711,
   "metadata": {},
   "outputs": [
    {
     "data": {
      "text/plain": [
       "['translations/export_po?workflow=HXYx1RG4SE2APBy_RJ5gfw',\n",
       " 'translations/export_po?workflow=wQL4TQy9TH-tvsGUTz_NMA',\n",
       " 'translations/export_po?workflow=ZTokMsKQRP-6xojMrMzeRA',\n",
       " 'translations/export_po?workflow=H1_mo9_5R5a7RIRLwA4TLQ']"
      ]
     },
     "execution_count": 711,
     "metadata": {},
     "output_type": "execute_result"
    }
   ],
   "source": [
    "export_links = filter_exportPO_links()\n",
    "export_links"
   ]
  },
  {
   "cell_type": "code",
   "execution_count": 426,
   "metadata": {},
   "outputs": [],
   "source": [
    "# workflow_links = []\n",
    "# for link in main_soup.find_all('button', string=\"Export PO\"):\n",
    "#         workflow_links.append(link)"
   ]
  },
  {
   "cell_type": "code",
   "execution_count": 427,
   "metadata": {},
   "outputs": [],
   "source": [
    "# link_url = workflow_links[9].attrs['onclick'].split(\n",
    "#     \"location.href=\")[1].replace(\"'\",\"\").replace(\n",
    "#     '/translations','translations')"
   ]
  },
  {
   "cell_type": "code",
   "execution_count": 730,
   "metadata": {},
   "outputs": [],
   "source": [
    "link_url = export_links[0]"
   ]
  },
  {
   "cell_type": "code",
   "execution_count": 731,
   "metadata": {},
   "outputs": [],
   "source": [
    "# select po file\n",
    "driver.get('http://fe.smartstart.prd.feersum.io/'+link_url)"
   ]
  },
  {
   "cell_type": "code",
   "execution_count": 732,
   "metadata": {},
   "outputs": [],
   "source": [
    "target_langs = ['afrikaans','zul', 'xho',\n",
    "                'southern sotho', 'sepedi' ,'tswana',\n",
    "                'venda', 'tso', 'swat','south nde']"
   ]
  },
  {
   "cell_type": "code",
   "execution_count": 733,
   "metadata": {},
   "outputs": [],
   "source": [
    "lang_dropdown = driver.find_elements_by_class_name('select2-selection__arrow')"
   ]
  },
  {
   "cell_type": "code",
   "execution_count": 734,
   "metadata": {},
   "outputs": [],
   "source": [
    "lang_dropdown[1].click()"
   ]
  },
  {
   "cell_type": "code",
   "execution_count": 735,
   "metadata": {},
   "outputs": [],
   "source": [
    " enter_lang = driver.find_element_by_class_name('select2-search__field')"
   ]
  },
  {
   "cell_type": "code",
   "execution_count": 736,
   "metadata": {},
   "outputs": [],
   "source": [
    "enter_lang.send_keys('afrik')"
   ]
  },
  {
   "cell_type": "code",
   "execution_count": 737,
   "metadata": {},
   "outputs": [],
   "source": [
    "enter_lang.send_keys(Keys.RETURN)"
   ]
  },
  {
   "cell_type": "code",
   "execution_count": 738,
   "metadata": {},
   "outputs": [],
   "source": [
    "export_button = driver.find_element_by_css_selector('#content > form:nth-child(2) > input:nth-child(4)')"
   ]
  },
  {
   "cell_type": "code",
   "execution_count": 739,
   "metadata": {},
   "outputs": [],
   "source": [
    "export_button.click()"
   ]
  },
  {
   "cell_type": "code",
   "execution_count": 393,
   "metadata": {},
   "outputs": [],
   "source": [
    "\n",
    "# driver.quit()"
   ]
  },
  {
   "cell_type": "code",
   "execution_count": 745,
   "metadata": {},
   "outputs": [
    {
     "data": {
      "text/plain": [
       "[]"
      ]
     },
     "execution_count": 745,
     "metadata": {},
     "output_type": "execute_result"
    }
   ],
   "source": [
    "lang_dropdown"
   ]
  },
  {
   "cell_type": "code",
   "execution_count": 746,
   "metadata": {},
   "outputs": [
    {
     "name": "stdout",
     "output_type": "stream",
     "text": [
      "http://fe.smartstart.prd.feersum.io/t\n",
      "z\n",
      "u\n",
      "l\n",
      "http://fe.smartstart.prd.feersum.io/r\n",
      "z\n",
      "u\n",
      "l\n",
      "http://fe.smartstart.prd.feersum.io/a\n",
      "z\n",
      "u\n",
      "l\n",
      "http://fe.smartstart.prd.feersum.io/n\n",
      "z\n",
      "u\n",
      "l\n",
      "http://fe.smartstart.prd.feersum.io/s\n",
      "z\n",
      "u\n",
      "l\n",
      "http://fe.smartstart.prd.feersum.io/l\n",
      "z\n",
      "u\n",
      "l\n",
      "http://fe.smartstart.prd.feersum.io/a\n",
      "z\n",
      "u\n",
      "l\n",
      "http://fe.smartstart.prd.feersum.io/t\n",
      "z\n",
      "u\n",
      "l\n",
      "http://fe.smartstart.prd.feersum.io/i\n",
      "z\n",
      "u\n",
      "l\n",
      "http://fe.smartstart.prd.feersum.io/o\n",
      "z\n",
      "u\n",
      "l\n",
      "http://fe.smartstart.prd.feersum.io/n\n",
      "z\n",
      "u\n",
      "l\n",
      "http://fe.smartstart.prd.feersum.io/s\n",
      "z\n",
      "u\n",
      "l\n",
      "http://fe.smartstart.prd.feersum.io//\n",
      "z\n",
      "u\n",
      "l\n",
      "http://fe.smartstart.prd.feersum.io/e\n",
      "z\n",
      "u\n",
      "l\n",
      "http://fe.smartstart.prd.feersum.io/x\n",
      "z\n",
      "u\n",
      "l\n",
      "http://fe.smartstart.prd.feersum.io/p\n",
      "z\n",
      "u\n",
      "l\n",
      "http://fe.smartstart.prd.feersum.io/o\n",
      "z\n",
      "u\n",
      "l\n",
      "http://fe.smartstart.prd.feersum.io/r\n",
      "z\n",
      "u\n",
      "l\n",
      "http://fe.smartstart.prd.feersum.io/t\n",
      "z\n",
      "u\n",
      "l\n",
      "http://fe.smartstart.prd.feersum.io/_\n",
      "z\n",
      "u\n",
      "l\n",
      "http://fe.smartstart.prd.feersum.io/p\n",
      "z\n",
      "u\n",
      "l\n",
      "http://fe.smartstart.prd.feersum.io/o\n",
      "z\n",
      "u\n",
      "l\n",
      "http://fe.smartstart.prd.feersum.io/?\n",
      "z\n",
      "u\n",
      "l\n",
      "http://fe.smartstart.prd.feersum.io/w\n",
      "z\n",
      "u\n",
      "l\n",
      "http://fe.smartstart.prd.feersum.io/o\n",
      "z\n",
      "u\n",
      "l\n",
      "http://fe.smartstart.prd.feersum.io/r\n",
      "z\n",
      "u\n",
      "l\n",
      "http://fe.smartstart.prd.feersum.io/k\n",
      "z\n",
      "u\n",
      "l\n",
      "http://fe.smartstart.prd.feersum.io/f\n",
      "z\n",
      "u\n",
      "l\n",
      "http://fe.smartstart.prd.feersum.io/l\n",
      "z\n",
      "u\n",
      "l\n",
      "http://fe.smartstart.prd.feersum.io/o\n",
      "z\n",
      "u\n",
      "l\n",
      "http://fe.smartstart.prd.feersum.io/w\n",
      "z\n",
      "u\n",
      "l\n",
      "http://fe.smartstart.prd.feersum.io/=\n",
      "z\n",
      "u\n",
      "l\n",
      "http://fe.smartstart.prd.feersum.io/H\n",
      "z\n",
      "u\n",
      "l\n",
      "http://fe.smartstart.prd.feersum.io/X\n",
      "z\n",
      "u\n",
      "l\n",
      "http://fe.smartstart.prd.feersum.io/Y\n",
      "z\n",
      "u\n",
      "l\n",
      "http://fe.smartstart.prd.feersum.io/x\n",
      "z\n",
      "u\n",
      "l\n",
      "http://fe.smartstart.prd.feersum.io/1\n",
      "z\n",
      "u\n",
      "l\n",
      "http://fe.smartstart.prd.feersum.io/R\n",
      "z\n",
      "u\n",
      "l\n",
      "http://fe.smartstart.prd.feersum.io/G\n",
      "z\n",
      "u\n",
      "l\n",
      "http://fe.smartstart.prd.feersum.io/4\n",
      "z\n",
      "u\n",
      "l\n",
      "http://fe.smartstart.prd.feersum.io/S\n",
      "z\n",
      "u\n",
      "l\n",
      "http://fe.smartstart.prd.feersum.io/E\n",
      "z\n",
      "u\n",
      "l\n",
      "http://fe.smartstart.prd.feersum.io/2\n",
      "z\n",
      "u\n",
      "l\n",
      "http://fe.smartstart.prd.feersum.io/A\n",
      "z\n",
      "u\n",
      "l\n",
      "http://fe.smartstart.prd.feersum.io/P\n",
      "z\n",
      "u\n",
      "l\n",
      "http://fe.smartstart.prd.feersum.io/B\n",
      "z\n",
      "u\n",
      "l\n",
      "http://fe.smartstart.prd.feersum.io/y\n",
      "z\n",
      "u\n",
      "l\n",
      "http://fe.smartstart.prd.feersum.io/_\n",
      "z\n",
      "u\n",
      "l\n",
      "http://fe.smartstart.prd.feersum.io/R\n",
      "z\n",
      "u\n",
      "l\n",
      "http://fe.smartstart.prd.feersum.io/J\n",
      "z\n",
      "u\n",
      "l\n",
      "http://fe.smartstart.prd.feersum.io/5\n",
      "z\n",
      "u\n",
      "l\n",
      "http://fe.smartstart.prd.feersum.io/g\n",
      "z\n",
      "u\n",
      "l\n",
      "http://fe.smartstart.prd.feersum.io/f\n",
      "z\n",
      "u\n",
      "l\n",
      "http://fe.smartstart.prd.feersum.io/w\n",
      "z\n",
      "u\n",
      "l\n",
      "CPU times: user 493 ms, sys: 65.7 ms, total: 558 ms\n",
      "Wall time: 32 s\n"
     ]
    }
   ],
   "source": [
    "%%time\n",
    "#link_url is a link to the po file, then download the 10 translations for each\n",
    "# still need to iterate over all the pages\n",
    "for link_url in export_links[0]:\n",
    "    print('http://fe.smartstart.prd.feersum.io/'+link_url)\n",
    "    # select po file\n",
    "    driver.get('http://fe.smartstart.prd.feersum.io/'+link_url)\n",
    "    for lang in target_langs[1]:\n",
    "        print(lang)\n",
    "        lang_dropdown = driver.find_elements_by_class_name('select2-selection__arrow')\n",
    "        if len(lang_dropdown) <1:\n",
    "            continue\n",
    "        print(lang_dropdown[1])\n",
    "        lang_dropdown[1].click()\n",
    "        enter_lang = driver.find_element_by_class_name('select2-search__field')\n",
    "        enter_lang.send_keys(lang)\n",
    "        time.sleep(0.4)\n",
    "        enter_lang.send_keys(Keys.RETURN)\n",
    "        time.sleep(0.01)\n",
    "        export_button = driver.find_element_by_css_selector('#content > form:nth-child(2) > input:nth-child(4)')\n",
    "        export_button.click()\n",
    "       \n",
    "f'Finsihed on page'"
   ]
  },
  {
   "cell_type": "code",
   "execution_count": null,
   "metadata": {},
   "outputs": [],
   "source": [
    "time.sleep(1)\n",
    "    enter_lang.send_keys(lang)\n",
    "    enter_lang.send_keys(Keys.RETURN)"
   ]
  },
  {
   "cell_type": "code",
   "execution_count": null,
   "metadata": {},
   "outputs": [],
   "source": [
    "lang_dropdown = driver.find_elements_by_class_name('select2-selection__arrow')"
   ]
  },
  {
   "cell_type": "code",
   "execution_count": 747,
   "metadata": {},
   "outputs": [],
   "source": [
    "driver.quit()"
   ]
  },
  {
   "cell_type": "code",
   "execution_count": 702,
   "metadata": {},
   "outputs": [],
   "source": [
    "driver.quit()"
   ]
  },
  {
   "cell_type": "code",
   "execution_count": null,
   "metadata": {},
   "outputs": [],
   "source": []
  },
  {
   "cell_type": "code",
   "execution_count": 104,
   "metadata": {},
   "outputs": [],
   "source": []
  },
  {
   "cell_type": "code",
   "execution_count": 105,
   "metadata": {},
   "outputs": [],
   "source": []
  },
  {
   "cell_type": "code",
   "execution_count": 106,
   "metadata": {},
   "outputs": [],
   "source": []
  },
  {
   "cell_type": "code",
   "execution_count": 73,
   "metadata": {},
   "outputs": [],
   "source": []
  },
  {
   "cell_type": "code",
   "execution_count": null,
   "metadata": {},
   "outputs": [],
   "source": []
  },
  {
   "cell_type": "code",
   "execution_count": null,
   "metadata": {},
   "outputs": [],
   "source": []
  },
  {
   "cell_type": "code",
   "execution_count": null,
   "metadata": {},
   "outputs": [],
   "source": []
  },
  {
   "cell_type": "code",
   "execution_count": null,
   "metadata": {},
   "outputs": [],
   "source": []
  },
  {
   "cell_type": "code",
   "execution_count": null,
   "metadata": {},
   "outputs": [],
   "source": []
  },
  {
   "cell_type": "code",
   "execution_count": null,
   "metadata": {},
   "outputs": [],
   "source": []
  },
  {
   "cell_type": "code",
   "execution_count": null,
   "metadata": {},
   "outputs": [],
   "source": []
  },
  {
   "cell_type": "code",
   "execution_count": null,
   "metadata": {},
   "outputs": [],
   "source": []
  },
  {
   "cell_type": "code",
   "execution_count": null,
   "metadata": {},
   "outputs": [],
   "source": []
  },
  {
   "cell_type": "code",
   "execution_count": 34,
   "metadata": {},
   "outputs": [],
   "source": [
    "def page_data():\n",
    "    \"\"\" fetch all the .po links on a page\n",
    "    \"\"\"\n",
    "    #Selenium hands the page source to Beautiful Soup\n",
    "    inner_soup=BeautifulSoup(driver.page_source, 'lxml')\n",
    "\n",
    "    for link in inner_soup.find_all('button', string=\"Export PO\"):\n",
    "        workflow_links.append(link)"
   ]
  },
  {
   "cell_type": "code",
   "execution_count": 48,
   "metadata": {},
   "outputs": [],
   "source": [
    "workflow_links = [] #empty list"
   ]
  },
  {
   "cell_type": "code",
   "execution_count": 35,
   "metadata": {},
   "outputs": [
    {
     "ename": "NoSuchElementException",
     "evalue": "Message: Unable to locate element: 11\n",
     "output_type": "error",
     "traceback": [
      "\u001b[0;31m---------------------------------------------------------------------------\u001b[0m",
      "\u001b[0;31mNoSuchElementException\u001b[0m                    Traceback (most recent call last)",
      "\u001b[0;32m<ipython-input-35-2bc7f2c51064>\u001b[0m in \u001b[0;36m<module>\u001b[0;34m()\u001b[0m\n\u001b[1;32m      8\u001b[0m     \u001b[0mwork_flow_counter\u001b[0m \u001b[0;34m=\u001b[0m \u001b[0mlen\u001b[0m\u001b[0;34m(\u001b[0m\u001b[0mworkflow_links\u001b[0m\u001b[0;34m)\u001b[0m\u001b[0;34m\u001b[0m\u001b[0m\n\u001b[1;32m      9\u001b[0m     \u001b[0;34mf'Gone through {work_flow_counter} of {number_of_workflows} workflows'\u001b[0m\u001b[0;34m\u001b[0m\u001b[0m\n\u001b[0;32m---> 10\u001b[0;31m     \u001b[0mpython_button\u001b[0m \u001b[0;34m=\u001b[0m \u001b[0mdriver\u001b[0m\u001b[0;34m.\u001b[0m\u001b[0mfind_element_by_link_text\u001b[0m\u001b[0;34m(\u001b[0m\u001b[0mstr\u001b[0m\u001b[0;34m(\u001b[0m\u001b[0mpage_index\u001b[0m\u001b[0;34m)\u001b[0m\u001b[0;34m)\u001b[0m\u001b[0;34m\u001b[0m\u001b[0m\n\u001b[0m\u001b[1;32m     11\u001b[0m     \u001b[0;34mf'Going on to page {page_index}'\u001b[0m\u001b[0;34m\u001b[0m\u001b[0m\n\u001b[1;32m     12\u001b[0m     \u001b[0mpython_button\u001b[0m\u001b[0;34m.\u001b[0m\u001b[0mclick\u001b[0m\u001b[0;34m(\u001b[0m\u001b[0;34m)\u001b[0m\u001b[0;34m\u001b[0m\u001b[0m\n",
      "\u001b[0;32m~/anaconda3/lib/python3.6/site-packages/selenium/webdriver/remote/webdriver.py\u001b[0m in \u001b[0;36mfind_element_by_link_text\u001b[0;34m(self, link_text)\u001b[0m\n\u001b[1;32m    426\u001b[0m             \u001b[0melement\u001b[0m \u001b[0;34m=\u001b[0m \u001b[0mdriver\u001b[0m\u001b[0;34m.\u001b[0m\u001b[0mfind_element_by_link_text\u001b[0m\u001b[0;34m(\u001b[0m\u001b[0;34m'Sign In'\u001b[0m\u001b[0;34m)\u001b[0m\u001b[0;34m\u001b[0m\u001b[0m\n\u001b[1;32m    427\u001b[0m         \"\"\"\n\u001b[0;32m--> 428\u001b[0;31m         \u001b[0;32mreturn\u001b[0m \u001b[0mself\u001b[0m\u001b[0;34m.\u001b[0m\u001b[0mfind_element\u001b[0m\u001b[0;34m(\u001b[0m\u001b[0mby\u001b[0m\u001b[0;34m=\u001b[0m\u001b[0mBy\u001b[0m\u001b[0;34m.\u001b[0m\u001b[0mLINK_TEXT\u001b[0m\u001b[0;34m,\u001b[0m \u001b[0mvalue\u001b[0m\u001b[0;34m=\u001b[0m\u001b[0mlink_text\u001b[0m\u001b[0;34m)\u001b[0m\u001b[0;34m\u001b[0m\u001b[0m\n\u001b[0m\u001b[1;32m    429\u001b[0m \u001b[0;34m\u001b[0m\u001b[0m\n\u001b[1;32m    430\u001b[0m     \u001b[0;32mdef\u001b[0m \u001b[0mfind_elements_by_link_text\u001b[0m\u001b[0;34m(\u001b[0m\u001b[0mself\u001b[0m\u001b[0;34m,\u001b[0m \u001b[0mtext\u001b[0m\u001b[0;34m)\u001b[0m\u001b[0;34m:\u001b[0m\u001b[0;34m\u001b[0m\u001b[0m\n",
      "\u001b[0;32m~/anaconda3/lib/python3.6/site-packages/selenium/webdriver/remote/webdriver.py\u001b[0m in \u001b[0;36mfind_element\u001b[0;34m(self, by, value)\u001b[0m\n\u001b[1;32m    976\u001b[0m         return self.execute(Command.FIND_ELEMENT, {\n\u001b[1;32m    977\u001b[0m             \u001b[0;34m'using'\u001b[0m\u001b[0;34m:\u001b[0m \u001b[0mby\u001b[0m\u001b[0;34m,\u001b[0m\u001b[0;34m\u001b[0m\u001b[0m\n\u001b[0;32m--> 978\u001b[0;31m             'value': value})['value']\n\u001b[0m\u001b[1;32m    979\u001b[0m \u001b[0;34m\u001b[0m\u001b[0m\n\u001b[1;32m    980\u001b[0m     \u001b[0;32mdef\u001b[0m \u001b[0mfind_elements\u001b[0m\u001b[0;34m(\u001b[0m\u001b[0mself\u001b[0m\u001b[0;34m,\u001b[0m \u001b[0mby\u001b[0m\u001b[0;34m=\u001b[0m\u001b[0mBy\u001b[0m\u001b[0;34m.\u001b[0m\u001b[0mID\u001b[0m\u001b[0;34m,\u001b[0m \u001b[0mvalue\u001b[0m\u001b[0;34m=\u001b[0m\u001b[0;32mNone\u001b[0m\u001b[0;34m)\u001b[0m\u001b[0;34m:\u001b[0m\u001b[0;34m\u001b[0m\u001b[0m\n",
      "\u001b[0;32m~/anaconda3/lib/python3.6/site-packages/selenium/webdriver/remote/webdriver.py\u001b[0m in \u001b[0;36mexecute\u001b[0;34m(self, driver_command, params)\u001b[0m\n\u001b[1;32m    319\u001b[0m         \u001b[0mresponse\u001b[0m \u001b[0;34m=\u001b[0m \u001b[0mself\u001b[0m\u001b[0;34m.\u001b[0m\u001b[0mcommand_executor\u001b[0m\u001b[0;34m.\u001b[0m\u001b[0mexecute\u001b[0m\u001b[0;34m(\u001b[0m\u001b[0mdriver_command\u001b[0m\u001b[0;34m,\u001b[0m \u001b[0mparams\u001b[0m\u001b[0;34m)\u001b[0m\u001b[0;34m\u001b[0m\u001b[0m\n\u001b[1;32m    320\u001b[0m         \u001b[0;32mif\u001b[0m \u001b[0mresponse\u001b[0m\u001b[0;34m:\u001b[0m\u001b[0;34m\u001b[0m\u001b[0m\n\u001b[0;32m--> 321\u001b[0;31m             \u001b[0mself\u001b[0m\u001b[0;34m.\u001b[0m\u001b[0merror_handler\u001b[0m\u001b[0;34m.\u001b[0m\u001b[0mcheck_response\u001b[0m\u001b[0;34m(\u001b[0m\u001b[0mresponse\u001b[0m\u001b[0;34m)\u001b[0m\u001b[0;34m\u001b[0m\u001b[0m\n\u001b[0m\u001b[1;32m    322\u001b[0m             response['value'] = self._unwrap_value(\n\u001b[1;32m    323\u001b[0m                 response.get('value', None))\n",
      "\u001b[0;32m~/anaconda3/lib/python3.6/site-packages/selenium/webdriver/remote/errorhandler.py\u001b[0m in \u001b[0;36mcheck_response\u001b[0;34m(self, response)\u001b[0m\n\u001b[1;32m    240\u001b[0m                 \u001b[0malert_text\u001b[0m \u001b[0;34m=\u001b[0m \u001b[0mvalue\u001b[0m\u001b[0;34m[\u001b[0m\u001b[0;34m'alert'\u001b[0m\u001b[0;34m]\u001b[0m\u001b[0;34m.\u001b[0m\u001b[0mget\u001b[0m\u001b[0;34m(\u001b[0m\u001b[0;34m'text'\u001b[0m\u001b[0;34m)\u001b[0m\u001b[0;34m\u001b[0m\u001b[0m\n\u001b[1;32m    241\u001b[0m             \u001b[0;32mraise\u001b[0m \u001b[0mexception_class\u001b[0m\u001b[0;34m(\u001b[0m\u001b[0mmessage\u001b[0m\u001b[0;34m,\u001b[0m \u001b[0mscreen\u001b[0m\u001b[0;34m,\u001b[0m \u001b[0mstacktrace\u001b[0m\u001b[0;34m,\u001b[0m \u001b[0malert_text\u001b[0m\u001b[0;34m)\u001b[0m\u001b[0;34m\u001b[0m\u001b[0m\n\u001b[0;32m--> 242\u001b[0;31m         \u001b[0;32mraise\u001b[0m \u001b[0mexception_class\u001b[0m\u001b[0;34m(\u001b[0m\u001b[0mmessage\u001b[0m\u001b[0;34m,\u001b[0m \u001b[0mscreen\u001b[0m\u001b[0;34m,\u001b[0m \u001b[0mstacktrace\u001b[0m\u001b[0;34m)\u001b[0m\u001b[0;34m\u001b[0m\u001b[0m\n\u001b[0m\u001b[1;32m    243\u001b[0m \u001b[0;34m\u001b[0m\u001b[0m\n\u001b[1;32m    244\u001b[0m     \u001b[0;32mdef\u001b[0m \u001b[0m_value_or_default\u001b[0m\u001b[0;34m(\u001b[0m\u001b[0mself\u001b[0m\u001b[0;34m,\u001b[0m \u001b[0mobj\u001b[0m\u001b[0;34m,\u001b[0m \u001b[0mkey\u001b[0m\u001b[0;34m,\u001b[0m \u001b[0mdefault\u001b[0m\u001b[0;34m)\u001b[0m\u001b[0;34m:\u001b[0m\u001b[0;34m\u001b[0m\u001b[0m\n",
      "\u001b[0;31mNoSuchElementException\u001b[0m: Message: Unable to locate element: 11\n"
     ]
    }
   ],
   "source": [
    "work_flow_counter = 0\n",
    "page_index = 1\n",
    "\n",
    "while work_flow_counter < number_of_workflows:\n",
    "    f'Extracting Data from page {page_index-1}...'\n",
    "    page_data()\n",
    "    work_flow_counter = len(workflow_links)\n",
    "    f'Gone through {work_flow_counter} of {number_of_workflows} workflows'\n",
    "    python_button = driver.find_element_by_link_text(str(page_index))\n",
    "    f'Going on to page {page_index}'\n",
    "    python_button.click() \n",
    "    page_index+=1\n",
    "    f'----------------------------------------------------------------'\n",
    "    if page_index > 12:\n",
    "        break"
   ]
  },
  {
   "cell_type": "code",
   "execution_count": 85,
   "metadata": {},
   "outputs": [],
   "source": []
  },
  {
   "cell_type": "code",
   "execution_count": null,
   "metadata": {},
   "outputs": [],
   "source": []
  }
 ],
 "metadata": {
  "hide_input": false,
  "kernelspec": {
   "display_name": "Python 3",
   "language": "python",
   "name": "python3"
  },
  "language_info": {
   "codemirror_mode": {
    "name": "ipython",
    "version": 3
   },
   "file_extension": ".py",
   "mimetype": "text/x-python",
   "name": "python",
   "nbconvert_exporter": "python",
   "pygments_lexer": "ipython3",
   "version": "3.6.5"
  },
  "nbTranslate": {
   "displayLangs": [
    "*"
   ],
   "hotkey": "alt-t",
   "langInMainMenu": true,
   "sourceLang": "en",
   "targetLang": "fr",
   "useGoogleTranslate": true
  },
  "toc": {
   "base_numbering": 1,
   "nav_menu": {},
   "number_sections": true,
   "sideBar": true,
   "skip_h1_title": false,
   "title_cell": "Table of Contents",
   "title_sidebar": "Contents",
   "toc_cell": false,
   "toc_position": {},
   "toc_section_display": true,
   "toc_window_display": false
  }
 },
 "nbformat": 4,
 "nbformat_minor": 2
}
