{
 "cells": [
  {
   "cell_type": "code",
   "execution_count": null,
   "metadata": {},
   "outputs": [],
   "source": [
    "# Fetch all .po files from FE Workflows (for smart start) - Extract copy and create one giant .csv with the translations"
   ]
  },
  {
   "cell_type": "code",
   "execution_count": 202,
   "metadata": {},
   "outputs": [],
   "source": [
    "# import libraries\n",
    "\n",
    "#process webpages\n",
    "from bs4 import BeautifulSoup\n",
    "\n",
    "#interact with site\n",
    "from selenium import webdriver\n",
    "from selenium.webdriver.common.keys import Keys\n",
    "from selenium.webdriver.support.ui import Select\n",
    "from selenium.webdriver.firefox.options import Options\n",
    "from selenium.common.exceptions import NoSuchElementException\n",
    "\n",
    "from random import randint\n",
    "import datetime\n",
    "import os\n",
    "import time\n",
    "import pandas as pd\n",
    "import numpy as np\n",
    "\n",
    "import shutil\n",
    "import glob"
   ]
  },
  {
   "cell_type": "code",
   "execution_count": 203,
   "metadata": {},
   "outputs": [],
   "source": [
    "# set download options\n",
    "options = Options();\n",
    "\n",
    "options.set_preference(\"browser.download.folderList\",1);\n",
    "options.set_preference(\"browser.download.manager.showWhenStarting\", False);\n",
    "options.set_preference(\"browser.download.dir\",\"/translation_data/\");\n",
    "options.set_preference(\"browser.helperApps.neverAsk.saveToDisk\", \"application/octet-stream,application/vnd.ms-excel\");"
   ]
  },
  {
   "cell_type": "code",
   "execution_count": 204,
   "metadata": {},
   "outputs": [
    {
     "data": {
      "text/plain": [
       "{'browser.download.folderList': 1,\n",
       " 'browser.download.manager.showWhenStarting': False,\n",
       " 'browser.download.dir': '/translation_data/',\n",
       " 'browser.helperApps.neverAsk.saveToDisk': 'application/octet-stream,application/vnd.ms-excel'}"
      ]
     },
     "execution_count": 204,
     "metadata": {},
     "output_type": "execute_result"
    }
   ],
   "source": [
    "# check thst options have updated\n",
    "options.preferences"
   ]
  },
  {
   "cell_type": "code",
   "execution_count": 205,
   "metadata": {},
   "outputs": [],
   "source": [
    "# landing page\n",
    "url = \"http://fe.smartstart.prd.feersum.io/admin/workflow/workflow/\""
   ]
  },
  {
   "cell_type": "code",
   "execution_count": 206,
   "metadata": {},
   "outputs": [],
   "source": [
    "# create a new Firefox session\n",
    "driver = webdriver.Firefox(options=options);\n",
    "# driver.implicitly_wait(30)\n",
    "driver.get(url)"
   ]
  },
  {
   "cell_type": "code",
   "execution_count": 207,
   "metadata": {},
   "outputs": [],
   "source": [
    "# Fill in login details\n",
    "username = driver.find_element_by_id(\"id_username\")\n",
    "password = driver.find_element_by_id(\"id_password\")\n",
    "\n",
    "username.send_keys(\"devs\")\n",
    "password.send_keys(\"axvkcl4389xv%^3klj498dfg\")"
   ]
  },
  {
   "cell_type": "code",
   "execution_count": 208,
   "metadata": {},
   "outputs": [],
   "source": [
    "#Login\n",
    "python_button = driver.find_element_by_class_name(\"btn \")\n",
    "python_button.click() "
   ]
  },
  {
   "cell_type": "code",
   "execution_count": 145,
   "metadata": {},
   "outputs": [],
   "source": [
    "# Get page source for first page of interest\n",
    "# main_soup=BeautifulSoup(driver.page_source, 'lxml')"
   ]
  },
  {
   "cell_type": "code",
   "execution_count": 146,
   "metadata": {},
   "outputs": [],
   "source": [
    "# determine total number of workflows\n",
    "# number_of_workflows = int(main_soup.find('div',class_=\"pagination-info muted\").text.split()[-3])"
   ]
  },
  {
   "cell_type": "code",
   "execution_count": 147,
   "metadata": {},
   "outputs": [
    {
     "data": {
      "text/plain": [
       "239"
      ]
     },
     "execution_count": 147,
     "metadata": {},
     "output_type": "execute_result"
    }
   ],
   "source": [
    "# number_of_workflows"
   ]
  },
  {
   "cell_type": "code",
   "execution_count": 194,
   "metadata": {},
   "outputs": [],
   "source": [
    "def filter_exportPO_links(main_soup):\n",
    "    \"\"\"filter export PO links on a page based on non-zero number of extracted phrases\n",
    "    \"\"\"\n",
    "    links = []\n",
    "    for row in main_soup.find_all('table', id='result_list'):\n",
    "        for i,phrase_count in enumerate(row.find_all('td', class_='field-num_translatable_phrases')):\n",
    "            if (int(phrase_count.string)) > 0:\n",
    "                links.append(row.find_all(\n",
    "                    'td',class_='field-translation_actions')[i].find_all(\n",
    "                    'button', string=\"Export PO\")[0].attrs['onclick'].split(\n",
    "        \"location.href=\")[1].replace(\"'\",\"\").replace(\n",
    "        '/translations','translations'))\n",
    "\n",
    "    return links"
   ]
  },
  {
   "cell_type": "code",
   "execution_count": 180,
   "metadata": {},
   "outputs": [
    {
     "data": {
      "text/plain": [
       "[]"
      ]
     },
     "execution_count": 180,
     "metadata": {},
     "output_type": "execute_result"
    }
   ],
   "source": [
    "# export_links = filter_exportPO_links(main_soup=main_soup)\n",
    "# export_links"
   ]
  },
  {
   "cell_type": "code",
   "execution_count": 426,
   "metadata": {},
   "outputs": [],
   "source": [
    "# workflow_links = []\n",
    "# for link in main_soup.find_all('button', string=\"Export PO\"):\n",
    "#         workflow_links.append(link)"
   ]
  },
  {
   "cell_type": "code",
   "execution_count": 427,
   "metadata": {},
   "outputs": [],
   "source": [
    "# link_url = workflow_links[9].attrs['onclick'].split(\n",
    "#     \"location.href=\")[1].replace(\"'\",\"\").replace(\n",
    "#     '/translations','translations')"
   ]
  },
  {
   "cell_type": "code",
   "execution_count": 730,
   "metadata": {},
   "outputs": [],
   "source": [
    "# link_url = export_links[0]"
   ]
  },
  {
   "cell_type": "code",
   "execution_count": null,
   "metadata": {},
   "outputs": [],
   "source": [
    "# The first save has to be done outside the for loop"
   ]
  },
  {
   "cell_type": "code",
   "execution_count": 80,
   "metadata": {},
   "outputs": [],
   "source": [
    "# select po file\n",
    "# driver.get('http://fe.smartstart.prd.feersum.io/'+export_links[0])"
   ]
  },
  {
   "cell_type": "code",
   "execution_count": 195,
   "metadata": {},
   "outputs": [],
   "source": [
    "target_langs = ['afrikaans','zul', 'xho',\n",
    "                'southern sotho', 'sepedi' ,'tswana',\n",
    "                'venda', 'tso', 'swat','south nde']"
   ]
  },
  {
   "cell_type": "code",
   "execution_count": 82,
   "metadata": {},
   "outputs": [],
   "source": [
    "# lang_dropdown = driver.find_elements_by_class_name('select2-selection__arrow')"
   ]
  },
  {
   "cell_type": "code",
   "execution_count": 83,
   "metadata": {},
   "outputs": [],
   "source": [
    "# lang_dropdown[1].click()"
   ]
  },
  {
   "cell_type": "code",
   "execution_count": 84,
   "metadata": {},
   "outputs": [],
   "source": [
    "#  enter_lang = driver.find_element_by_class_name('select2-search__field')"
   ]
  },
  {
   "cell_type": "code",
   "execution_count": 85,
   "metadata": {},
   "outputs": [],
   "source": [
    "# enter_lang.send_keys('afrik')"
   ]
  },
  {
   "cell_type": "code",
   "execution_count": 86,
   "metadata": {},
   "outputs": [],
   "source": [
    "# enter_lang.send_keys(Keys.RETURN)"
   ]
  },
  {
   "cell_type": "code",
   "execution_count": 87,
   "metadata": {},
   "outputs": [],
   "source": [
    "# export_button = driver.find_element_by_css_selector('#content > form:nth-child(2) > input:nth-child(4)')"
   ]
  },
  {
   "cell_type": "code",
   "execution_count": 88,
   "metadata": {},
   "outputs": [],
   "source": [
    "# export_button.click()"
   ]
  },
  {
   "cell_type": "code",
   "execution_count": 90,
   "metadata": {},
   "outputs": [],
   "source": [
    "# driver.back()"
   ]
  },
  {
   "cell_type": "code",
   "execution_count": 393,
   "metadata": {},
   "outputs": [],
   "source": [
    "\n",
    "# driver.quit()"
   ]
  },
  {
   "cell_type": "code",
   "execution_count": 213,
   "metadata": {},
   "outputs": [
    {
     "name": "stdout",
     "output_type": "stream",
     "text": [
      "CPU times: user 5 µs, sys: 0 ns, total: 5 µs\n",
      "Wall time: 8.82 µs\n"
     ]
    }
   ],
   "source": [
    "%%time\n",
    "#link_url is a link to the po file, then download the 10 translations for each\n",
    "# still need to iterate over all the pages\n",
    "def extract_po_files(export_links,langs):\n",
    "    \"\"\"\n",
    "    \"\"\"\n",
    "    for wf,link_url in enumerate(export_links):\n",
    "        f'Working on workflow number {wf}'\n",
    "        # select po file\n",
    "        driver.get('http://fe.smartstart.prd.feersum.io/'+link_url)\n",
    "        for lang in target_langs:\n",
    "            f'{lang}'\n",
    "            lang_dropdown = driver.find_elements_by_class_name('select2-selection__arrow')\n",
    "            lang_dropdown[1].click()\n",
    "            enter_lang = driver.find_element_by_class_name('select2-search__field')\n",
    "            enter_lang.send_keys(lang)\n",
    "            time.sleep(0.75)\n",
    "            enter_lang.send_keys(Keys.RETURN)\n",
    "            time.sleep(0.25)\n",
    "            export_button = driver.find_element_by_css_selector('#content > form:nth-child(2) > input:nth-child(4)')\n",
    "            export_button.click()\n",
    "        f'Finsihed on page'"
   ]
  },
  {
   "cell_type": "code",
   "execution_count": 702,
   "metadata": {},
   "outputs": [],
   "source": []
  },
  {
   "cell_type": "code",
   "execution_count": 197,
   "metadata": {},
   "outputs": [
    {
     "name": "stdout",
     "output_type": "stream",
     "text": [
      "No more pages to to scrape ... exiting now\n",
      "The end\n",
      "CPU times: user 881 ms, sys: 15.2 ms, total: 896 ms\n",
      "Wall time: 11.3 s\n"
     ]
    }
   ],
   "source": [
    "%%time\n",
    "next_page_exists=True\n",
    "page_index = 2\n",
    "all_links = []\n",
    "pages = []\n",
    "\n",
    "while next_page_exists:\n",
    "    try:\n",
    "        # Get page source for first page of interest\n",
    "        main_soup=BeautifulSoup(driver.page_source, 'lxml')\n",
    "        export_links = filter_exportPO_links(main_soup=main_soup)\n",
    "        \n",
    "        all_links.append(export_links)\n",
    "        pages.append(page_index)\n",
    "        \n",
    "        next_page = driver.find_element_by_class_name(\n",
    "            'pagination').find_element_by_link_text(str(page_index))\n",
    "        next_page.click()\n",
    "        \n",
    "        page_index+=1\n",
    "        \n",
    "        #     extract_po_files(export_links=export_links, langs = target_langs)\n",
    "#         driver.back()\n",
    "        \n",
    "    except NoSuchElementException:\n",
    "        print('No more pages to to scrape ... exiting now')\n",
    "        next_page_exists=False\n",
    "#     if page_index > 8:\n",
    "#         break\n",
    "        \n",
    "print('The end')\n",
    "driver.quit()   \n",
    "    "
   ]
  },
  {
   "cell_type": "code",
   "execution_count": 198,
   "metadata": {},
   "outputs": [],
   "source": [
    "links = [link for links in all_links for link in links ]"
   ]
  },
  {
   "cell_type": "code",
   "execution_count": 199,
   "metadata": {},
   "outputs": [
    {
     "data": {
      "text/plain": [
       "(43, 43)"
      ]
     },
     "execution_count": 199,
     "metadata": {},
     "output_type": "execute_result"
    }
   ],
   "source": [
    "len(links), len(set(links))"
   ]
  },
  {
   "cell_type": "code",
   "execution_count": 211,
   "metadata": {},
   "outputs": [
    {
     "data": {
      "text/plain": [
       "['translations/export_po?workflow=HXYx1RG4SE2APBy_RJ5gfw',\n",
       " 'translations/export_po?workflow=wQL4TQy9TH-tvsGUTz_NMA',\n",
       " 'translations/export_po?workflow=ZTokMsKQRP-6xojMrMzeRA',\n",
       " 'translations/export_po?workflow=H1_mo9_5R5a7RIRLwA4TLQ',\n",
       " 'translations/export_po?workflow=Ylvs54KpSr6MRrYt_DLc4g',\n",
       " 'translations/export_po?workflow=P7ITtSftS7ik2I2FoWTD5g',\n",
       " 'translations/export_po?workflow=f2P1dIHYR--WWY0gPbdZhA',\n",
       " 'translations/export_po?workflow=Fukqk6TLRbq1dG6zLJELQw',\n",
       " 'translations/export_po?workflow=FPGDUvRQR6eiQHYmnSWVCA',\n",
       " 'translations/export_po?workflow=QQvBkyn0QqeGy7NV1aka9Q',\n",
       " 'translations/export_po?workflow=KRbWcIz9SJqQSOxq5FxxbA',\n",
       " 'translations/export_po?workflow=B3iVazNFRtyYwyn6c6owEg',\n",
       " 'translations/export_po?workflow=rkxfsafHRFq5JEsQuR2OUw',\n",
       " 'translations/export_po?workflow=yq1WX6bYQbeQVrWU6xGbOg',\n",
       " 'translations/export_po?workflow=qi2_WFL7SMuQRWoMUdBAuA',\n",
       " 'translations/export_po?workflow=bOnYFz2BRgixd6nGvpdeBg',\n",
       " 'translations/export_po?workflow=Xqu76I1GTuGVWVnYG9p2HQ',\n",
       " 'translations/export_po?workflow=ThbZXDb7SbaK0i-d3aODwA',\n",
       " 'translations/export_po?workflow=pxXNgwMYQcago-0hRjbTRQ',\n",
       " 'translations/export_po?workflow=M0-3jQvPSCCuDfUpK9rpfg',\n",
       " 'translations/export_po?workflow=p4_rEsr1R1SomkWXfadkMg',\n",
       " 'translations/export_po?workflow=QTjmpvmsTVqnBmKYgfTgqg',\n",
       " 'translations/export_po?workflow=tCljt2-DTlegxlKST5cvLA',\n",
       " 'translations/export_po?workflow=p7jBlWHcQzar5mm9iVhJXg',\n",
       " 'translations/export_po?workflow=G1kzsY4gSimRU4DfwBvbsg',\n",
       " 'translations/export_po?workflow=6tmoErbKRlCIe3ZCNpKEDQ',\n",
       " 'translations/export_po?workflow=T0O3w3h7RzKCKL-Be-D7Hg',\n",
       " 'translations/export_po?workflow=XVSApQd3TsCy-cJAy6dcIw',\n",
       " 'translations/export_po?workflow=7FB_vT8KQFee_chFyMqSbw',\n",
       " 'translations/export_po?workflow=eBfVoVwsTsGo1oo_Yn69OQ',\n",
       " 'translations/export_po?workflow=T-b0Uc6RSziqVAD8XOvFlQ',\n",
       " 'translations/export_po?workflow=QkpmBYFPQai5_HGjTUPujg',\n",
       " 'translations/export_po?workflow=EmWzNa3LSza1qhWz_Mq8EA',\n",
       " 'translations/export_po?workflow=ZAPz2rmITh-_cmPu1PRBEA',\n",
       " 'translations/export_po?workflow=hzoId-qjSamZr22qQg8rfA',\n",
       " 'translations/export_po?workflow=dqEbY089ReS8TexzEQbNlA',\n",
       " 'translations/export_po?workflow=xvU22jkoRiOGpK4BVO4juA',\n",
       " 'translations/export_po?workflow=p1sgHULbTnC2J8reOmaBgg',\n",
       " 'translations/export_po?workflow=u_CFE22SQmySWzEyaPjAwg',\n",
       " 'translations/export_po?workflow=u61hj3QiTl2kvod-yDqzgw',\n",
       " 'translations/export_po?workflow=3SR9y5mIS9uPHMfvXCDYDA',\n",
       " 'translations/export_po?workflow=flZcvRFWTOuSp85ZXbEDAQ',\n",
       " 'translations/export_po?workflow=5jpuAlxiSC2qeZd7n-eztw']"
      ]
     },
     "execution_count": 211,
     "metadata": {},
     "output_type": "execute_result"
    }
   ],
   "source": [
    "links"
   ]
  },
  {
   "cell_type": "code",
   "execution_count": null,
   "metadata": {},
   "outputs": [],
   "source": [
    "http://fe.smartstart.prd.feersum.io/translations/export_po?workflow=hzoId-qjSamZr22qQg8rfA"
   ]
  },
  {
   "cell_type": "code",
   "execution_count": 214,
   "metadata": {},
   "outputs": [
    {
     "data": {
      "text/plain": [
       "['translations/export_po?workflow=hzoId-qjSamZr22qQg8rfA',\n",
       " 'translations/export_po?workflow=dqEbY089ReS8TexzEQbNlA',\n",
       " 'translations/export_po?workflow=xvU22jkoRiOGpK4BVO4juA',\n",
       " 'translations/export_po?workflow=p1sgHULbTnC2J8reOmaBgg',\n",
       " 'translations/export_po?workflow=u_CFE22SQmySWzEyaPjAwg',\n",
       " 'translations/export_po?workflow=u61hj3QiTl2kvod-yDqzgw',\n",
       " 'translations/export_po?workflow=3SR9y5mIS9uPHMfvXCDYDA',\n",
       " 'translations/export_po?workflow=flZcvRFWTOuSp85ZXbEDAQ',\n",
       " 'translations/export_po?workflow=5jpuAlxiSC2qeZd7n-eztw']"
      ]
     },
     "execution_count": 214,
     "metadata": {},
     "output_type": "execute_result"
    }
   ],
   "source": [
    "links[34:]"
   ]
  },
  {
   "cell_type": "code",
   "execution_count": 215,
   "metadata": {},
   "outputs": [
    {
     "name": "stdout",
     "output_type": "stream",
     "text": [
      "CPU times: user 975 ms, sys: 86.7 ms, total: 1.06 s\n",
      "Wall time: 9min 58s\n"
     ]
    }
   ],
   "source": [
    "%%time\n",
    "extract_po_files(export_links=links[34:], langs = target_langs)"
   ]
  },
  {
   "cell_type": "code",
   "execution_count": 227,
   "metadata": {},
   "outputs": [],
   "source": [
    "src_fldr = '/home/ari/Downloads/'\n",
    "dest_fldr = '/home/ari/Documents/2018/Work/Praekelt/Repos/po-files/translations/'\n",
    "\n",
    "\n",
    "files = os.listdir(src_fldr)"
   ]
  },
  {
   "cell_type": "code",
   "execution_count": 229,
   "metadata": {},
   "outputs": [],
   "source": [
    "for po_file in glob.glob(src_fldr+\"*.po\"):\n",
    "    shutil.copy2(po_file, dest_fldr);\n",
    "    "
   ]
  },
  {
   "cell_type": "code",
   "execution_count": 217,
   "metadata": {},
   "outputs": [],
   "source": [
    "driver.close()"
   ]
  },
  {
   "cell_type": "code",
   "execution_count": 85,
   "metadata": {},
   "outputs": [],
   "source": []
  },
  {
   "cell_type": "code",
   "execution_count": null,
   "metadata": {},
   "outputs": [],
   "source": []
  }
 ],
 "metadata": {
  "hide_input": false,
  "kernelspec": {
   "display_name": "Python 3",
   "language": "python",
   "name": "python3"
  },
  "language_info": {
   "codemirror_mode": {
    "name": "ipython",
    "version": 3
   },
   "file_extension": ".py",
   "mimetype": "text/x-python",
   "name": "python",
   "nbconvert_exporter": "python",
   "pygments_lexer": "ipython3",
   "version": "3.6.5"
  },
  "nbTranslate": {
   "displayLangs": [
    "*"
   ],
   "hotkey": "alt-t",
   "langInMainMenu": true,
   "sourceLang": "en",
   "targetLang": "fr",
   "useGoogleTranslate": true
  },
  "toc": {
   "base_numbering": 1,
   "nav_menu": {},
   "number_sections": true,
   "sideBar": true,
   "skip_h1_title": false,
   "title_cell": "Table of Contents",
   "title_sidebar": "Contents",
   "toc_cell": false,
   "toc_position": {},
   "toc_section_display": true,
   "toc_window_display": false
  }
 },
 "nbformat": 4,
 "nbformat_minor": 2
}
